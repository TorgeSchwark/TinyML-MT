{
 "cells": [
  {
   "cell_type": "markdown",
   "id": "614213f9",
   "metadata": {},
   "source": [
    "# Convert YOLO .pt model to metal core"
   ]
  },
  {
   "cell_type": "code",
   "execution_count": 3,
   "id": "35e07a42",
   "metadata": {},
   "outputs": [],
   "source": [
    "CHECKPOINT = \"full_trained.pt\""
   ]
  },
  {
   "cell_type": "markdown",
   "id": "77d4a715",
   "metadata": {},
   "source": [
    "## Old\n",
    "\n",
    "Run `yolo export model=model_checkpoints/yolo_classifier1.pt format=onnx opset=12` in Terminal"
   ]
  },
  {
   "cell_type": "code",
   "execution_count": 4,
   "id": "c1e0b137",
   "metadata": {},
   "outputs": [
    {
     "ename": "AttributeError",
     "evalue": "module 'coremltools.converters' has no attribute 'onnx'",
     "output_type": "error",
     "traceback": [
      "\u001b[31m---------------------------------------------------------------------------\u001b[39m",
      "\u001b[31mAttributeError\u001b[39m                            Traceback (most recent call last)",
      "\u001b[36mCell\u001b[39m\u001b[36m \u001b[39m\u001b[32mIn[4]\u001b[39m\u001b[32m, line 8\u001b[39m\n\u001b[32m      5\u001b[39m onnx_model = onnx.load(CHECKPOINT)\n\u001b[32m      7\u001b[39m \u001b[38;5;66;03m# Convert to Core ML\u001b[39;00m\n\u001b[32m----> \u001b[39m\u001b[32m8\u001b[39m coreml_model = \u001b[43mct\u001b[49m\u001b[43m.\u001b[49m\u001b[43mconverters\u001b[49m\u001b[43m.\u001b[49m\u001b[43monnx\u001b[49m.convert(\n\u001b[32m      9\u001b[39m     onnx_model,\n\u001b[32m     10\u001b[39m     minimum_ios_deployment_target=\u001b[33m\"\u001b[39m\u001b[33m18\u001b[39m\u001b[33m\"\u001b[39m,  \u001b[38;5;66;03m# or \"14\" depending on your app\u001b[39;00m\n\u001b[32m     11\u001b[39m )\n\u001b[32m     13\u001b[39m \u001b[38;5;66;03m# Save Core ML model\u001b[39;00m\n\u001b[32m     14\u001b[39m coreml_model.save(\u001b[33m\"\u001b[39m\u001b[33mYOLOv8.mlmodel\u001b[39m\u001b[33m\"\u001b[39m)\n",
      "\u001b[31mAttributeError\u001b[39m: module 'coremltools.converters' has no attribute 'onnx'"
     ]
    }
   ],
   "source": [
    "import coremltools as ct\n",
    "import onnx\n",
    "\n",
    "# Load ONNX model\n",
    "onnx_model = onnx.load(CHECKPOINT)\n",
    "\n",
    "# Convert to Core ML\n",
    "coreml_model = ct.converters.onnx.convert(\n",
    "    onnx_model,\n",
    "    minimum_ios_deployment_target=\"18\",  # or \"14\" depending on your app\n",
    ")\n",
    "\n",
    "# Save Core ML model\n",
    "coreml_model.save(\"YOLOv8.mlmodel\")"
   ]
  },
  {
   "cell_type": "code",
   "execution_count": 5,
   "id": "cccf3ce5",
   "metadata": {},
   "outputs": [
    {
     "name": "stdout",
     "output_type": "stream",
     "text": [
      "Input name: images\n",
      "Shape: [1, 3, 512, 512]\n"
     ]
    }
   ],
   "source": [
    "import onnx\n",
    "\n",
    "# Load your ONNX model\n",
    "model = onnx.load(CHECKPOINT)\n",
    "\n",
    "# Get the input tensor info\n",
    "input_all = [inp for inp in model.graph.input]\n",
    "\n",
    "# Skip initializers (constants, weights)\n",
    "initializer_names = {init.name for init in model.graph.initializer}\n",
    "inputs = [i for i in input_all if i.name not in initializer_names]\n",
    "\n",
    "# Print input shapes\n",
    "for input_tensor in inputs:\n",
    "    shape = []\n",
    "    tensor_type = input_tensor.type.tensor_type\n",
    "    for dim in tensor_type.shape.dim:\n",
    "        if dim.dim_value > 0:\n",
    "            shape.append(dim.dim_value)\n",
    "        else:\n",
    "            shape.append(\"?\")  # dynamic dim\n",
    "    print(f\"Input name: {input_tensor.name}\")\n",
    "    print(f\"Shape: {shape}\")"
   ]
  },
  {
   "cell_type": "markdown",
   "id": "984528b0",
   "metadata": {},
   "source": [
    "## New"
   ]
  },
  {
   "cell_type": "markdown",
   "id": "3a09065d",
   "metadata": {},
   "source": [
    "Load YOLO model and extract torch model"
   ]
  },
  {
   "cell_type": "code",
   "execution_count": 5,
   "id": "7e697101",
   "metadata": {},
   "outputs": [
    {
     "name": "stdout",
     "output_type": "stream",
     "text": [
      "Ultralytics 8.3.144 🚀 Python-3.10.12 torch-2.5.1+cu124 CPU (Intel Xeon E5-2623 v4 2.60GHz)\n"
     ]
    },
    {
     "name": "stdout",
     "output_type": "stream",
     "text": [
      "YOLO11n summary (fused): 100 layers, 2,584,102 parameters, 0 gradients, 6.3 GFLOPs\n",
      "\n",
      "\u001b[34m\u001b[1mPyTorch:\u001b[0m starting from 'full_trained.pt' with input shape (1, 3, 512, 512) BCHW and output shape(s) (1, 14, 5376) (5.2 MB)\n",
      "\n",
      "\u001b[34m\u001b[1mCoreML:\u001b[0m starting export with coremltools 8.3.0...\n"
     ]
    },
    {
     "name": "stderr",
     "output_type": "stream",
     "text": [
      "Tuple detected at graph output. This will be flattened in the converted model.\n",
      "Converting PyTorch Frontend ==> MIL Ops: 100%|█████████▉| 709/711 [00:00<00:00, 2376.47 ops/s]\n",
      "Running MIL frontend_pytorch pipeline: 100%|██████████| 5/5 [00:00<00:00, 58.26 passes/s]\n",
      "Running MIL default pipeline: 100%|██████████| 89/89 [00:03<00:00, 28.63 passes/s]\n",
      "Running MIL backend_mlprogram pipeline: 100%|██████████| 12/12 [00:00<00:00, 36.84 passes/s]\n"
     ]
    },
    {
     "name": "stdout",
     "output_type": "stream",
     "text": [
      "\u001b[34m\u001b[1mCoreML Pipeline:\u001b[0m starting pipeline with coremltools 8.3.0...\n",
      "\u001b[34m\u001b[1mCoreML Pipeline:\u001b[0m pipeline success\n",
      "\u001b[34m\u001b[1mCoreML:\u001b[0m export success ✅ 7.8s, saved as 'full_trained.mlpackage' (5.1 MB)\n",
      "\n",
      "Export complete (8.3s)\n",
      "Results saved to \u001b[1m/data22/stu235269/TinyML-MT/model_checkpoints\u001b[0m\n",
      "Predict:         yolo predict task=detect model=full_trained.mlpackage imgsz=512  \n",
      "Validate:        yolo val task=detect model=full_trained.mlpackage imgsz=512 data=../../huggingface/ai_checkout/artificial_rotated_mult_back/artificial_rotated_mult_back.yaml  \n",
      "Visualize:       https://netron.app\n"
     ]
    },
    {
     "data": {
      "text/plain": [
       "'full_trained.mlpackage'"
      ]
     },
     "execution_count": 5,
     "metadata": {},
     "output_type": "execute_result"
    }
   ],
   "source": [
    "from ultralytics import YOLO\n",
    "import torch\n",
    "\n",
    "model = YOLO(CHECKPOINT)\n",
    "model.export(format=\"coreml\", nms=True) #! Check for more options (Try optimize=True later)"
   ]
  }
 ],
 "metadata": {
  "kernelspec": {
   "display_name": "basket",
   "language": "python",
   "name": "python3"
  },
  "language_info": {
   "codemirror_mode": {
    "name": "ipython",
    "version": 3
   },
   "file_extension": ".py",
   "mimetype": "text/x-python",
   "name": "python",
   "nbconvert_exporter": "python",
   "pygments_lexer": "ipython3",
   "version": "3.10.12"
  }
 },
 "nbformat": 4,
 "nbformat_minor": 5
}
