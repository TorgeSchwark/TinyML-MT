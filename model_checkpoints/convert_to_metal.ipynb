{
 "cells": [
  {
   "cell_type": "markdown",
   "id": "614213f9",
   "metadata": {},
   "source": [
    "# Convert YOLO .pt model to metal core"
   ]
  },
  {
   "cell_type": "code",
   "execution_count": 1,
   "id": "35e07a42",
   "metadata": {},
   "outputs": [],
   "source": [
    "CHECKPOINT = \"yolo_classifier1.pt\""
   ]
  },
  {
   "cell_type": "markdown",
   "id": "77d4a715",
   "metadata": {},
   "source": [
    "## Old\n",
    "\n",
    "Run `yolo export model=model_checkpoints/yolo_classifier1.pt format=onnx opset=12` in Terminal"
   ]
  },
  {
   "cell_type": "code",
   "execution_count": 4,
   "id": "c1e0b137",
   "metadata": {},
   "outputs": [
    {
     "ename": "AttributeError",
     "evalue": "module 'coremltools.converters' has no attribute 'onnx'",
     "output_type": "error",
     "traceback": [
      "\u001b[31m---------------------------------------------------------------------------\u001b[39m",
      "\u001b[31mAttributeError\u001b[39m                            Traceback (most recent call last)",
      "\u001b[36mCell\u001b[39m\u001b[36m \u001b[39m\u001b[32mIn[4]\u001b[39m\u001b[32m, line 8\u001b[39m\n\u001b[32m      5\u001b[39m onnx_model = onnx.load(CHECKPOINT)\n\u001b[32m      7\u001b[39m \u001b[38;5;66;03m# Convert to Core ML\u001b[39;00m\n\u001b[32m----> \u001b[39m\u001b[32m8\u001b[39m coreml_model = \u001b[43mct\u001b[49m\u001b[43m.\u001b[49m\u001b[43mconverters\u001b[49m\u001b[43m.\u001b[49m\u001b[43monnx\u001b[49m.convert(\n\u001b[32m      9\u001b[39m     onnx_model,\n\u001b[32m     10\u001b[39m     minimum_ios_deployment_target=\u001b[33m\"\u001b[39m\u001b[33m18\u001b[39m\u001b[33m\"\u001b[39m,  \u001b[38;5;66;03m# or \"14\" depending on your app\u001b[39;00m\n\u001b[32m     11\u001b[39m )\n\u001b[32m     13\u001b[39m \u001b[38;5;66;03m# Save Core ML model\u001b[39;00m\n\u001b[32m     14\u001b[39m coreml_model.save(\u001b[33m\"\u001b[39m\u001b[33mYOLOv8.mlmodel\u001b[39m\u001b[33m\"\u001b[39m)\n",
      "\u001b[31mAttributeError\u001b[39m: module 'coremltools.converters' has no attribute 'onnx'"
     ]
    }
   ],
   "source": [
    "import coremltools as ct\n",
    "import onnx\n",
    "\n",
    "# Load ONNX model\n",
    "onnx_model = onnx.load(CHECKPOINT)\n",
    "\n",
    "# Convert to Core ML\n",
    "coreml_model = ct.converters.onnx.convert(\n",
    "    onnx_model,\n",
    "    minimum_ios_deployment_target=\"18\",  # or \"14\" depending on your app\n",
    ")\n",
    "\n",
    "# Save Core ML model\n",
    "coreml_model.save(\"YOLOv8.mlmodel\")"
   ]
  },
  {
   "cell_type": "code",
   "execution_count": 5,
   "id": "cccf3ce5",
   "metadata": {},
   "outputs": [
    {
     "name": "stdout",
     "output_type": "stream",
     "text": [
      "Input name: images\n",
      "Shape: [1, 3, 512, 512]\n"
     ]
    }
   ],
   "source": [
    "import onnx\n",
    "\n",
    "# Load your ONNX model\n",
    "model = onnx.load(CHECKPOINT)\n",
    "\n",
    "# Get the input tensor info\n",
    "input_all = [inp for inp in model.graph.input]\n",
    "\n",
    "# Skip initializers (constants, weights)\n",
    "initializer_names = {init.name for init in model.graph.initializer}\n",
    "inputs = [i for i in input_all if i.name not in initializer_names]\n",
    "\n",
    "# Print input shapes\n",
    "for input_tensor in inputs:\n",
    "    shape = []\n",
    "    tensor_type = input_tensor.type.tensor_type\n",
    "    for dim in tensor_type.shape.dim:\n",
    "        if dim.dim_value > 0:\n",
    "            shape.append(dim.dim_value)\n",
    "        else:\n",
    "            shape.append(\"?\")  # dynamic dim\n",
    "    print(f\"Input name: {input_tensor.name}\")\n",
    "    print(f\"Shape: {shape}\")"
   ]
  },
  {
   "cell_type": "markdown",
   "id": "984528b0",
   "metadata": {},
   "source": [
    "## New"
   ]
  },
  {
   "cell_type": "markdown",
   "id": "3a09065d",
   "metadata": {},
   "source": [
    "Load YOLO model and extract torch model"
   ]
  },
  {
   "cell_type": "code",
   "execution_count": 2,
   "id": "7e697101",
   "metadata": {},
   "outputs": [
    {
     "name": "stdout",
     "output_type": "stream",
     "text": [
      "Ultralytics 8.3.144 🚀 Python-3.10.12 torch-2.5.1+cu124 CPU (Intel Xeon E5-2623 v4 2.60GHz)\n",
      "YOLO11n summary (fused): 100 layers, 2,593,852 parameters, 0 gradients, 6.4 GFLOPs\n",
      "\n",
      "\u001b[34m\u001b[1mPyTorch:\u001b[0m starting from 'yolo_classifier1.pt' with input shape (1, 3, 512, 512) BCHW and output shape(s) (1, 64, 5376) (5.2 MB)\n"
     ]
    },
    {
     "name": "stderr",
     "output_type": "stream",
     "text": [
      "scikit-learn version 1.6.1 is not supported. Minimum required version: 0.17. Maximum required version: 1.5.1. Disabling scikit-learn conversion API.\n",
      "Torch version 2.5.1+cu124 has not been tested with coremltools. You may run into unexpected errors. Torch 2.5.0 is the most recent version that has been tested.\n",
      "Failed to load _MLModelProxy: No module named 'coremltools.libcoremlpython'\n",
      "Failed to load _MLCPUComputeDeviceProxy: No module named 'coremltools.libcoremlpython'\n",
      "Failed to load _MLGPUComputeDeviceProxy: No module named 'coremltools.libcoremlpython'\n",
      "Failed to load _MLNeuralEngineComputeDeviceProxy: No module named 'coremltools.libcoremlpython'\n",
      "Failed to load _MLModelProxy: No module named 'coremltools.libcoremlpython'\n",
      "Failed to load _MLComputePlanProxy: No module named 'coremltools.libcoremlpython'\n",
      "Failed to load _MLModelProxy: No module named 'coremltools.libcoremlpython'\n",
      "Failed to load _MLModelAssetProxy: No module named 'coremltools.libcoremlpython'\n"
     ]
    },
    {
     "name": "stdout",
     "output_type": "stream",
     "text": [
      "\n",
      "\u001b[34m\u001b[1mCoreML:\u001b[0m starting export with coremltools 8.3.0...\n"
     ]
    },
    {
     "name": "stderr",
     "output_type": "stream",
     "text": [
      "Converting PyTorch Frontend ==> MIL Ops: 100%|█████████▉| 791/792 [00:00<00:00, 1464.19 ops/s]\n",
      "Running MIL frontend_pytorch pipeline: 100%|██████████| 5/5 [00:00<00:00, 65.54 passes/s]\n",
      "Running MIL default pipeline: 100%|██████████| 89/89 [00:02<00:00, 39.40 passes/s]\n",
      "Running MIL backend_mlprogram pipeline: 100%|██████████| 12/12 [00:00<00:00, 67.81 passes/s]\n"
     ]
    },
    {
     "name": "stdout",
     "output_type": "stream",
     "text": [
      "\u001b[34m\u001b[1mCoreML:\u001b[0m export success ✅ 8.4s, saved as 'yolo_classifier1.mlpackage' (5.1 MB)\n",
      "\n",
      "Export complete (8.8s)\n",
      "Results saved to \u001b[1m/data22/stu235269/TinyML-MT/model_checkpoints\u001b[0m\n",
      "Predict:         yolo predict task=detect model=yolo_classifier1.mlpackage imgsz=512  \n",
      "Validate:        yolo val task=detect model=yolo_classifier1.mlpackage imgsz=512 data=../../huggingface/mvtec_yolo/dataset.yaml  \n",
      "Visualize:       https://netron.app\n"
     ]
    },
    {
     "data": {
      "text/plain": [
       "'yolo_classifier1.mlpackage'"
      ]
     },
     "execution_count": 2,
     "metadata": {},
     "output_type": "execute_result"
    }
   ],
   "source": [
    "from ultralytics import YOLO\n",
    "import torch\n",
    "\n",
    "model = YOLO(CHECKPOINT)\n",
    "model.export(format=\"coreml\") #! Check for more options (Try optimize=True later)"
   ]
  }
 ],
 "metadata": {
  "kernelspec": {
   "display_name": "basket",
   "language": "python",
   "name": "python3"
  },
  "language_info": {
   "codemirror_mode": {
    "name": "ipython",
    "version": 3
   },
   "file_extension": ".py",
   "mimetype": "text/x-python",
   "name": "python",
   "nbconvert_exporter": "python",
   "pygments_lexer": "ipython3",
   "version": "3.10.12"
  }
 },
 "nbformat": 4,
 "nbformat_minor": 5
}
