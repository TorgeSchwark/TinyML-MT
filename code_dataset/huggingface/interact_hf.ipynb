{
 "cells": [
  {
   "cell_type": "markdown",
   "id": "4592e210",
   "metadata": {},
   "source": [
    "# Interacting with Huggingface (HF)"
   ]
  },
  {
   "cell_type": "markdown",
   "id": "2006851e",
   "metadata": {},
   "source": [
    "### HF Limitations for our datasets\n",
    "To upload our datasets to HF for easy distribution we use a non-trivial approach as most of our datasets are very large and HF has limits\n",
    "- Not more than 10k files per folder\n",
    "- Not more than 100k in total\n",
    "- Loading with COCO format is not really supported\n",
    "  \n",
    "### Our approach\n",
    "Because of this we zip all image and label files in the respective folders when uploading and unzip them when downloading. Just follow this setup as it gides you through the process. \n",
    "\n",
    "Note: Normal Git usage with HF is not really supported as tracking doesnt work since we zip/unzip"
   ]
  },
  {
   "cell_type": "markdown",
   "id": "9cb04874",
   "metadata": {},
   "source": [
    "## Imports"
   ]
  },
  {
   "cell_type": "code",
   "execution_count": 1,
   "id": "5fd61ef9",
   "metadata": {},
   "outputs": [
    {
     "name": "stderr",
     "output_type": "stream",
     "text": [
      "/data22/stu236894/GitRepos/TinyML-MT/basket/lib/python3.10/site-packages/tqdm/auto.py:21: TqdmWarning: IProgress not found. Please update jupyter and ipywidgets. See https://ipywidgets.readthedocs.io/en/stable/user_install.html\n",
      "  from .autonotebook import tqdm as notebook_tqdm\n"
     ]
    }
   ],
   "source": [
    "import os\n",
    "import zipfile\n",
    "from huggingface_hub import HfApi, HfFolder\n",
    "import shutil"
   ]
  },
  {
   "cell_type": "markdown",
   "id": "51c5d576",
   "metadata": {},
   "source": [
    "## Login to HF\n",
    "The cache is not directly used for our method but just in case"
   ]
  },
  {
   "cell_type": "code",
   "execution_count": 2,
   "id": "9bcf8ee4",
   "metadata": {},
   "outputs": [
    {
     "name": "stdout",
     "output_type": "stream",
     "text": [
      "../../.cache\n"
     ]
    },
    {
     "name": "stdout",
     "output_type": "stream",
     "text": [
      "TorgeSchwark\n",
      "\u001b[1morgs: \u001b[0m Basket-AEye\n"
     ]
    }
   ],
   "source": [
    "# HF Cache\n",
    "os.environ[\"HF_HOME\"] = \"../../.cache\"\n",
    "!echo $HF_HOME\n",
    "!huggingface-cli whoami"
   ]
  },
  {
   "cell_type": "markdown",
   "id": "98a39e49",
   "metadata": {},
   "source": [
    "## Settings"
   ]
  },
  {
   "cell_type": "code",
   "execution_count": 3,
   "id": "94f466b8",
   "metadata": {},
   "outputs": [],
   "source": [
    "DATASET_DIR = \"mvtec_annotated\" # Starting from a local huggingface folder in the repo\n",
    "HF_REPO = \"Basket-AEye/mvtec_yolo\""
   ]
  },
  {
   "cell_type": "markdown",
   "id": "333c1e1f",
   "metadata": {},
   "source": [
    "# Upload to HF\n",
    "\n",
    "We only zip in subdirectories so any txt, json files in the first level are not zipped and can be used for HF settings and so on"
   ]
  },
  {
   "cell_type": "code",
   "execution_count": 4,
   "id": "8c1dcb76",
   "metadata": {},
   "outputs": [
    {
     "name": "stdout",
     "output_type": "stream",
     "text": [
      "Folder zipped to ../../huggingface/mvtec_annotated/labels/train.zip\n"
     ]
    },
    {
     "name": "stderr",
     "output_type": "stream",
     "text": [
      "train.zip: 100%|██████████| 2.42M/2.42M [00:01<00:00, 1.97MB/s]\n"
     ]
    },
    {
     "name": "stdout",
     "output_type": "stream",
     "text": [
      "File /labels/train.zip uploaded to Basket-AEye/mvtec_yolo\n",
      "Folder zipped to ../../huggingface/mvtec_annotated/labels/val.zip\n"
     ]
    },
    {
     "name": "stderr",
     "output_type": "stream",
     "text": [
      "val.zip: 100%|██████████| 1.46M/1.46M [00:01<00:00, 1.29MB/s]\n"
     ]
    },
    {
     "name": "stdout",
     "output_type": "stream",
     "text": [
      "File /labels/val.zip uploaded to Basket-AEye/mvtec_yolo\n"
     ]
    },
    {
     "name": "stderr",
     "output_type": "stream",
     "text": [
      "train.cache: 100%|██████████| 3.20M/3.20M [00:00<00:00, 3.66MB/s]\n"
     ]
    },
    {
     "name": "stdout",
     "output_type": "stream",
     "text": [
      "File /labels/train.cache uploaded to Basket-AEye/mvtec_yolo\n"
     ]
    },
    {
     "name": "stderr",
     "output_type": "stream",
     "text": [
      "val.cache: 100%|██████████| 1.90M/1.90M [00:00<00:00, 2.39MB/s]\n"
     ]
    },
    {
     "name": "stdout",
     "output_type": "stream",
     "text": [
      "File /labels/val.cache uploaded to Basket-AEye/mvtec_yolo\n",
      "Folder zipped to ../../huggingface/mvtec_annotated/images/train.zip\n"
     ]
    },
    {
     "name": "stderr",
     "output_type": "stream",
     "text": [
      "train.zip: 100%|██████████| 2.62G/2.62G [01:19<00:00, 33.2MB/s]\n"
     ]
    },
    {
     "name": "stdout",
     "output_type": "stream",
     "text": [
      "File /images/train.zip uploaded to Basket-AEye/mvtec_yolo\n",
      "Folder zipped to ../../huggingface/mvtec_annotated/images/val.zip\n"
     ]
    },
    {
     "name": "stderr",
     "output_type": "stream",
     "text": [
      "val.zip: 100%|██████████| 1.58G/1.58G [00:39<00:00, 40.0MB/s]\n"
     ]
    },
    {
     "name": "stdout",
     "output_type": "stream",
     "text": [
      "File /images/val.zip uploaded to Basket-AEye/mvtec_yolo\n",
      "Folder zipped to ../../huggingface/mvtec_annotated/images/test.zip\n"
     ]
    },
    {
     "name": "stderr",
     "output_type": "stream",
     "text": [
      "test.zip: 100%|██████████| 2.72G/2.72G [01:11<00:00, 37.9MB/s]\n"
     ]
    },
    {
     "name": "stdout",
     "output_type": "stream",
     "text": [
      "File /images/test.zip uploaded to Basket-AEye/mvtec_yolo\n"
     ]
    }
   ],
   "source": [
    "created_zips = []\n",
    "\n",
    "# ----- Functions -----\n",
    "def zip_folder(folder_path, output_zip):\n",
    "    \"\"\"Zips the contents of a folder.\"\"\"\n",
    "    with zipfile.ZipFile(output_zip, 'w', zipfile.ZIP_DEFLATED) as zipf:\n",
    "        for root, dirs, files in os.walk(folder_path):\n",
    "            for file in files:\n",
    "                file_path = os.path.join(root, file)\n",
    "                arcname = os.path.relpath(file_path, folder_path)\n",
    "                zipf.write(file_path, arcname)\n",
    "    print(f\"Folder zipped to {output_zip}\")\n",
    "    created_zips.append(output_zip)\n",
    "\n",
    "def upload_to_hf(path, repo_path):\n",
    "    \"\"\"Uploads a file to Hugging Face Hub.\"\"\"\n",
    "    api = HfApi()\n",
    "    api.upload_file(\n",
    "        path_or_fileobj=path,\n",
    "        path_in_repo=repo_path,\n",
    "        repo_id=HF_REPO,\n",
    "        repo_type=\"dataset\"\n",
    "    )\n",
    "    print(f\"File {repo_path} uploaded to {HF_REPO}\")\n",
    "\n",
    "complete_dir = os.path.join(\"../../huggingface/\", DATASET_DIR)\n",
    "\n",
    "# Go through each folder in the dataset directory\n",
    "def process_folder(folder_path, repo_prefix):\n",
    "    \"\"\"Processes a folder, zipping and uploading its contents recursively.\"\"\"\n",
    "    contains_image_or_text = any(\n",
    "        file.endswith(('.png', '.jpg', '.jpeg', '.txt', '.json'))\n",
    "        for file in os.listdir(folder_path)\n",
    "    )\n",
    "    if contains_image_or_text:\n",
    "        zip_path = f\"{folder_path}.zip\"\n",
    "        zip_folder(folder_path, zip_path)\n",
    "        upload_to_hf(zip_path, repo_prefix + f\"/{os.path.basename(folder_path)}.zip\")\n",
    "    else:\n",
    "        for item in os.listdir(folder_path):\n",
    "            item_path = os.path.join(folder_path, item)\n",
    "            if os.path.isdir(item_path):\n",
    "                process_folder(item_path, repo_prefix + f\"/{os.path.basename(folder_path)}\")\n",
    "            elif os.path.isfile(item_path):\n",
    "                upload_to_hf(item_path, repo_prefix + f\"/{os.path.basename(folder_path)}/{item}\")\n",
    "\n",
    "# ----- Main -----\n",
    "if not os.path.exists(complete_dir):\n",
    "    print(f\"Directory {complete_dir} does not exist.\")\n",
    "    exit(1)\n",
    "\n",
    "# Get a list of all folders in the complete directory\n",
    "folder_paths = [os.path.join(complete_dir, item) for item in os.listdir(complete_dir) if os.path.isdir(os.path.join(complete_dir, item))]\n",
    "\n",
    "# Execute process_folder for each folder in the list\n",
    "for folder_path in folder_paths:\n",
    "    process_folder(folder_path, \"\")\n"
   ]
  },
  {
   "cell_type": "markdown",
   "id": "e53e3c8c",
   "metadata": {},
   "source": [
    "### Remove zip files"
   ]
  },
  {
   "cell_type": "code",
   "execution_count": 5,
   "id": "7892164d",
   "metadata": {},
   "outputs": [
    {
     "name": "stdout",
     "output_type": "stream",
     "text": [
      "Removed ../../huggingface/mvtec_annotated/labels/train.zip\n",
      "Removed ../../huggingface/mvtec_annotated/labels/val.zip\n",
      "Removed ../../huggingface/mvtec_annotated/images/train.zip\n",
      "Removed ../../huggingface/mvtec_annotated/images/val.zip\n",
      "Removed ../../huggingface/mvtec_annotated/images/test.zip\n"
     ]
    }
   ],
   "source": [
    "for zip_file in created_zips:\n",
    "    if os.path.exists(zip_file):\n",
    "        os.remove(zip_file)\n",
    "        print(f\"Removed {zip_file}\")\n",
    "    else:\n",
    "        print(f\"{zip_file} does not exist.\")\n",
    "created_zips.clear()"
   ]
  },
  {
   "cell_type": "markdown",
   "id": "734844a0",
   "metadata": {},
   "source": [
    "# Download from HF\n",
    "\n",
    "This process removes the local directory, redownloads the entire repo and unzips"
   ]
  },
  {
   "cell_type": "code",
   "execution_count": 4,
   "id": "5c1af9f2",
   "metadata": {},
   "outputs": [
    {
     "name": "stderr",
     "output_type": "stream",
     "text": [
      "Fetching 29 files: 100%|██████████| 29/29 [00:04<00:00,  6.19it/s]\n"
     ]
    },
    {
     "name": "stdout",
     "output_type": "stream",
     "text": [
      "Downloaded snapshot of repo Basket-AEye/ai_shelf to /data22/stu236894/GitRepos/TinyML-MT/huggingface/ai_shelf\n",
      "Unzipped /data22/stu236894/GitRepos/TinyML-MT/huggingface/ai_shelf/sd/cereal.zip into /data22/stu236894/GitRepos/TinyML-MT/huggingface/ai_shelf/sd/cereal\n",
      "Unzipped /data22/stu236894/GitRepos/TinyML-MT/huggingface/ai_shelf/sd/first/banana.zip into /data22/stu236894/GitRepos/TinyML-MT/huggingface/ai_shelf/sd/first/banana\n",
      "Unzipped /data22/stu236894/GitRepos/TinyML-MT/huggingface/ai_shelf/sd/first/cucumber.zip into /data22/stu236894/GitRepos/TinyML-MT/huggingface/ai_shelf/sd/first/cucumber\n",
      "Unzipped /data22/stu236894/GitRepos/TinyML-MT/huggingface/ai_shelf/sd/first/avocado.zip into /data22/stu236894/GitRepos/TinyML-MT/huggingface/ai_shelf/sd/first/avocado\n",
      "Unzipped /data22/stu236894/GitRepos/TinyML-MT/huggingface/ai_shelf/sd/first/coke.zip into /data22/stu236894/GitRepos/TinyML-MT/huggingface/ai_shelf/sd/first/coke\n",
      "Unzipped /data22/stu236894/GitRepos/TinyML-MT/huggingface/ai_shelf/sd/first/apple.zip into /data22/stu236894/GitRepos/TinyML-MT/huggingface/ai_shelf/sd/first/apple\n",
      "Unzipped /data22/stu236894/GitRepos/TinyML-MT/huggingface/ai_shelf/sd/first/lemon.zip into /data22/stu236894/GitRepos/TinyML-MT/huggingface/ai_shelf/sd/first/lemon\n",
      "Unzipped /data22/stu236894/GitRepos/TinyML-MT/huggingface/ai_shelf/sd/first/tomato_sauce_.zip into /data22/stu236894/GitRepos/TinyML-MT/huggingface/ai_shelf/sd/first/tomato_sauce_\n",
      "Unzipped /data22/stu236894/GitRepos/TinyML-MT/huggingface/ai_shelf/sd/first/coffee_.zip into /data22/stu236894/GitRepos/TinyML-MT/huggingface/ai_shelf/sd/first/coffee_\n",
      "Unzipped /data22/stu236894/GitRepos/TinyML-MT/huggingface/ai_shelf/sd/first/fruit_tea_.zip into /data22/stu236894/GitRepos/TinyML-MT/huggingface/ai_shelf/sd/first/fruit_tea_\n",
      "Unzipped /data22/stu236894/GitRepos/TinyML-MT/huggingface/ai_shelf/sd/first/spaghetti_.zip into /data22/stu236894/GitRepos/TinyML-MT/huggingface/ai_shelf/sd/first/spaghetti_\n",
      "Unzipped /data22/stu236894/GitRepos/TinyML-MT/huggingface/ai_shelf/sd/second/apple.zip into /data22/stu236894/GitRepos/TinyML-MT/huggingface/ai_shelf/sd/second/apple\n",
      "Unzipped /data22/stu236894/GitRepos/TinyML-MT/huggingface/ai_shelf/sd/second/fruit tea.zip into /data22/stu236894/GitRepos/TinyML-MT/huggingface/ai_shelf/sd/second/fruit tea\n",
      "Unzipped /data22/stu236894/GitRepos/TinyML-MT/huggingface/ai_shelf/sd/second/cucumber.zip into /data22/stu236894/GitRepos/TinyML-MT/huggingface/ai_shelf/sd/second/cucumber\n",
      "Unzipped /data22/stu236894/GitRepos/TinyML-MT/huggingface/ai_shelf/sd/second/tomato sauce.zip into /data22/stu236894/GitRepos/TinyML-MT/huggingface/ai_shelf/sd/second/tomato sauce\n",
      "Unzipped /data22/stu236894/GitRepos/TinyML-MT/huggingface/ai_shelf/sd/second/lemon.zip into /data22/stu236894/GitRepos/TinyML-MT/huggingface/ai_shelf/sd/second/lemon\n",
      "Unzipped /data22/stu236894/GitRepos/TinyML-MT/huggingface/ai_shelf/sd/second/banana.zip into /data22/stu236894/GitRepos/TinyML-MT/huggingface/ai_shelf/sd/second/banana\n",
      "Unzipped /data22/stu236894/GitRepos/TinyML-MT/huggingface/ai_shelf/sd/second/avocado.zip into /data22/stu236894/GitRepos/TinyML-MT/huggingface/ai_shelf/sd/second/avocado\n",
      "Unzipped /data22/stu236894/GitRepos/TinyML-MT/huggingface/ai_shelf/sd/test/apple.zip into /data22/stu236894/GitRepos/TinyML-MT/huggingface/ai_shelf/sd/test/apple\n",
      "Unzipped /data22/stu236894/GitRepos/TinyML-MT/huggingface/ai_shelf/sd/test/avocado.zip into /data22/stu236894/GitRepos/TinyML-MT/huggingface/ai_shelf/sd/test/avocado\n",
      "Unzipped /data22/stu236894/GitRepos/TinyML-MT/huggingface/ai_shelf/sd/test/banana.zip into /data22/stu236894/GitRepos/TinyML-MT/huggingface/ai_shelf/sd/test/banana\n",
      "Unzipped /data22/stu236894/GitRepos/TinyML-MT/huggingface/ai_shelf/sd/test/coffee.zip into /data22/stu236894/GitRepos/TinyML-MT/huggingface/ai_shelf/sd/test/coffee\n",
      "Unzipped /data22/stu236894/GitRepos/TinyML-MT/huggingface/ai_shelf/sd/test/coke.zip into /data22/stu236894/GitRepos/TinyML-MT/huggingface/ai_shelf/sd/test/coke\n",
      "Unzipped /data22/stu236894/GitRepos/TinyML-MT/huggingface/ai_shelf/sd/test/cucumber.zip into /data22/stu236894/GitRepos/TinyML-MT/huggingface/ai_shelf/sd/test/cucumber\n",
      "Unzipped /data22/stu236894/GitRepos/TinyML-MT/huggingface/ai_shelf/sd/test/fruit tea.zip into /data22/stu236894/GitRepos/TinyML-MT/huggingface/ai_shelf/sd/test/fruit tea\n",
      "Unzipped /data22/stu236894/GitRepos/TinyML-MT/huggingface/ai_shelf/sd/test/lemon.zip into /data22/stu236894/GitRepos/TinyML-MT/huggingface/ai_shelf/sd/test/lemon\n",
      "Unzipped /data22/stu236894/GitRepos/TinyML-MT/huggingface/ai_shelf/sd/test/tomato sauce.zip into /data22/stu236894/GitRepos/TinyML-MT/huggingface/ai_shelf/sd/test/tomato sauce\n",
      "Unzipped /data22/stu236894/GitRepos/TinyML-MT/huggingface/ai_shelf/sd/test/spaghetti.zip into /data22/stu236894/GitRepos/TinyML-MT/huggingface/ai_shelf/sd/test/spaghetti\n"
     ]
    }
   ],
   "source": [
    "from huggingface_hub import snapshot_download\n",
    "\n",
    "complete_dir = os.path.join(\"../../huggingface/\", DATASET_DIR)\n",
    "\n",
    "# Check if the path exists and delete it\n",
    "if os.path.exists(complete_dir):\n",
    "    #shutil.rmtree(complete_dir)\n",
    "    print(f\"Existing directory: {complete_dir}\")\n",
    "\n",
    "# Download the repo from HF using snapshot_download\n",
    "snapshot_path = snapshot_download(\n",
    "    repo_id=HF_REPO,\n",
    "    repo_type=\"dataset\",\n",
    "    local_dir=complete_dir\n",
    ")\n",
    "print(f\"Downloaded snapshot of repo {HF_REPO} to {snapshot_path}\")\n",
    "# Unzip all zip files recursively and put files into a folder with the name of the zip\n",
    "for root, dirs, files in os.walk(snapshot_path):\n",
    "    for file in files:\n",
    "        if file.endswith('.zip'):\n",
    "            zip_path = os.path.join(root, file)\n",
    "            folder_name = os.path.splitext(file)[0]  # Get the name of the zip file without extension\n",
    "            extract_path = os.path.join(root, folder_name)  # Create a folder with the name of the zip\n",
    "            os.makedirs(extract_path, exist_ok=True)  # Ensure the folder exists\n",
    "            with zipfile.ZipFile(zip_path, 'r') as zip_ref:\n",
    "                zip_ref.extractall(extract_path)  # Extract files into the folder\n",
    "            # os.remove(zip_path)  # Uncomment for better caching but takes more space\n",
    "            print(f\"Unzipped {zip_path} into {extract_path}\")\n"
   ]
  },
  {
   "cell_type": "markdown",
   "id": "8b8990d9",
   "metadata": {},
   "source": [
    "## Remove zip files (No caching)\n",
    "When downloading we leave the zip files for caching: Comparing the two zip files and then not redownloading if same (TAKES MORE STORAGE THOUGH)\n",
    "If not wanted execute the cell below"
   ]
  },
  {
   "cell_type": "code",
   "execution_count": 5,
   "id": "cec4a893",
   "metadata": {},
   "outputs": [
    {
     "name": "stdout",
     "output_type": "stream",
     "text": [
      "Removed ../../huggingface/ai_shelf/sd/cereal.zip\n",
      "Removed ../../huggingface/ai_shelf/sd/first/banana.zip\n",
      "Removed ../../huggingface/ai_shelf/sd/first/cucumber.zip\n",
      "Removed ../../huggingface/ai_shelf/sd/first/avocado.zip\n",
      "Removed ../../huggingface/ai_shelf/sd/first/coke.zip\n",
      "Removed ../../huggingface/ai_shelf/sd/first/apple.zip\n",
      "Removed ../../huggingface/ai_shelf/sd/first/lemon.zip\n",
      "Removed ../../huggingface/ai_shelf/sd/first/tomato_sauce_.zip\n",
      "Removed ../../huggingface/ai_shelf/sd/first/coffee_.zip\n",
      "Removed ../../huggingface/ai_shelf/sd/first/fruit_tea_.zip\n",
      "Removed ../../huggingface/ai_shelf/sd/first/spaghetti_.zip\n",
      "Removed ../../huggingface/ai_shelf/sd/second/apple.zip\n",
      "Removed ../../huggingface/ai_shelf/sd/second/fruit tea.zip\n",
      "Removed ../../huggingface/ai_shelf/sd/second/cucumber.zip\n",
      "Removed ../../huggingface/ai_shelf/sd/second/tomato sauce.zip\n",
      "Removed ../../huggingface/ai_shelf/sd/second/lemon.zip\n",
      "Removed ../../huggingface/ai_shelf/sd/second/banana.zip\n",
      "Removed ../../huggingface/ai_shelf/sd/second/avocado.zip\n",
      "Removed ../../huggingface/ai_shelf/sd/test/apple.zip\n",
      "Removed ../../huggingface/ai_shelf/sd/test/avocado.zip\n",
      "Removed ../../huggingface/ai_shelf/sd/test/banana.zip\n",
      "Removed ../../huggingface/ai_shelf/sd/test/coffee.zip\n",
      "Removed ../../huggingface/ai_shelf/sd/test/coke.zip\n",
      "Removed ../../huggingface/ai_shelf/sd/test/cucumber.zip\n",
      "Removed ../../huggingface/ai_shelf/sd/test/fruit tea.zip\n",
      "Removed ../../huggingface/ai_shelf/sd/test/lemon.zip\n",
      "Removed ../../huggingface/ai_shelf/sd/test/tomato sauce.zip\n",
      "Removed ../../huggingface/ai_shelf/sd/test/spaghetti.zip\n"
     ]
    }
   ],
   "source": [
    "complete_dir = os.path.join(\"../../huggingface/\", DATASET_DIR)\n",
    "\n",
    "for root, dirs, files in os.walk(complete_dir):\n",
    "    for file in files:\n",
    "        if file.endswith('.zip'):\n",
    "            zip_path = os.path.join(root, file)\n",
    "            os.remove(zip_path)\n",
    "            print(f\"Removed {zip_path}\")"
   ]
  }
 ],
 "metadata": {
  "kernelspec": {
   "display_name": "basket (3.10.12)",
   "language": "python",
   "name": "python3"
  },
  "language_info": {
   "codemirror_mode": {
    "name": "ipython",
    "version": 3
   },
   "file_extension": ".py",
   "mimetype": "text/x-python",
   "name": "python",
   "nbconvert_exporter": "python",
   "pygments_lexer": "ipython3",
   "version": "3.10.12"
  }
 },
 "nbformat": 4,
 "nbformat_minor": 5
}
