{
 "cells": [
  {
   "cell_type": "markdown",
   "id": "0cd9173c",
   "metadata": {},
   "source": [
    "# Preprocess Data Folders\n",
    "In this notebook we preprocess data folders (Renaming, removing background if needed, ...)"
   ]
  },
  {
   "cell_type": "code",
   "execution_count": 2,
   "id": "d2dc0b03",
   "metadata": {},
   "outputs": [],
   "source": [
    "import os"
   ]
  },
  {
   "cell_type": "code",
   "execution_count": 3,
   "id": "799a7632",
   "metadata": {},
   "outputs": [
    {
     "name": "stdout",
     "output_type": "stream",
     "text": [
      "env: CUDA_VISIBLE_DEVICES=2\n",
      "../../.cache\n"
     ]
    },
    {
     "name": "stdout",
     "output_type": "stream",
     "text": [
      "Maats\n",
      "\u001b[1morgs: \u001b[0m DBD-research-group,Basket-AEye\n"
     ]
    }
   ],
   "source": [
    "# HF Cache\n",
    "%env CUDA_VISIBLE_DEVICES=2\n",
    "os.environ[\"HF_HOME\"] = \"../../.cache\"\n",
    "!echo $HF_HOME\n",
    "!huggingface-cli whoami"
   ]
  },
  {
   "cell_type": "markdown",
   "id": "7cef7078",
   "metadata": {},
   "source": [
    "## Settings"
   ]
  },
  {
   "cell_type": "code",
   "execution_count": 7,
   "id": "9fdf6f17",
   "metadata": {},
   "outputs": [],
   "source": [
    "FOLDER_PATH = \"../../huggingface/\" + \"10classes/tomato sauce\""
   ]
  },
  {
   "cell_type": "markdown",
   "id": "e1b727ba",
   "metadata": {},
   "source": [
    "### Rename"
   ]
  },
  {
   "cell_type": "code",
   "execution_count": 12,
   "id": "a208edb3",
   "metadata": {},
   "outputs": [],
   "source": [
    "for root, dirs, files in os.walk(FOLDER_PATH):\n",
    "    folder_name = os.path.basename(root)\n",
    "    images = [f for f in files if f.lower().endswith(('.png', '.jpg', '.jpeg'))]\n",
    "    temp_names = []\n",
    "    # First pass: rename to temp names to avoid conflicts\n",
    "    for idx, img in enumerate(sorted(images), 1):\n",
    "        ext = os.path.splitext(img)[1]\n",
    "        temp_name = f\"__temp__{idx}{ext}\"\n",
    "        old_path = os.path.join(root, img)\n",
    "        temp_path = os.path.join(root, temp_name)\n",
    "        os.rename(old_path, temp_path)\n",
    "        temp_names.append((temp_path, f\"{folder_name}{idx}{ext}\"))\n",
    "    # Second pass: rename temp names to final names\n",
    "    for temp_path, final_name in temp_names:\n",
    "        final_path = os.path.join(root, final_name)\n",
    "        os.rename(temp_path, final_path)"
   ]
  },
  {
   "cell_type": "markdown",
   "id": "e714995a",
   "metadata": {},
   "source": [
    "### Remove background"
   ]
  },
  {
   "cell_type": "code",
   "execution_count": 9,
   "id": "9b21a35e",
   "metadata": {},
   "outputs": [
    {
     "name": "stdout",
     "output_type": "stream",
     "text": [
      "Removing background from ../../huggingface/10classes/coffee/coffee1.png...\n"
     ]
    },
    {
     "name": "stderr",
     "output_type": "stream",
     "text": [
      "\u001b[1;31m2025-06-04 20:30:41.258287665 [E:onnxruntime:Default, provider_bridge_ort.cc:2195 TryGetProviderInfo_CUDA] /onnxruntime_src/onnxruntime/core/session/provider_bridge_ort.cc:1778 onnxruntime::Provider& onnxruntime::ProviderLibrary::Get() [ONNXRuntimeError] : 1 : FAIL : Failed to load library libonnxruntime_providers_cuda.so with error: libcudnn.so.9: cannot open shared object file: No such file or directory\n",
      "\u001b[m\n"
     ]
    },
    {
     "name": "stdout",
     "output_type": "stream",
     "text": [
      "Removing background from ../../huggingface/10classes/coffee/coffee2.png...\n"
     ]
    },
    {
     "name": "stderr",
     "output_type": "stream",
     "text": [
      "\u001b[1;31m2025-06-04 20:30:42.509674666 [E:onnxruntime:Default, provider_bridge_ort.cc:2195 TryGetProviderInfo_CUDA] /onnxruntime_src/onnxruntime/core/session/provider_bridge_ort.cc:1778 onnxruntime::Provider& onnxruntime::ProviderLibrary::Get() [ONNXRuntimeError] : 1 : FAIL : Failed to load library libonnxruntime_providers_cuda.so with error: libcudnn.so.9: cannot open shared object file: No such file or directory\n",
      "\u001b[m\n"
     ]
    },
    {
     "name": "stdout",
     "output_type": "stream",
     "text": [
      "Removing background from ../../huggingface/10classes/coffee/coffee3.png...\n"
     ]
    },
    {
     "name": "stderr",
     "output_type": "stream",
     "text": [
      "\u001b[1;31m2025-06-04 20:30:43.763313473 [E:onnxruntime:Default, provider_bridge_ort.cc:2195 TryGetProviderInfo_CUDA] /onnxruntime_src/onnxruntime/core/session/provider_bridge_ort.cc:1778 onnxruntime::Provider& onnxruntime::ProviderLibrary::Get() [ONNXRuntimeError] : 1 : FAIL : Failed to load library libonnxruntime_providers_cuda.so with error: libcudnn.so.9: cannot open shared object file: No such file or directory\n",
      "\u001b[m\n"
     ]
    },
    {
     "name": "stdout",
     "output_type": "stream",
     "text": [
      "Removing background from ../../huggingface/10classes/coffee/coffee4.png...\n"
     ]
    },
    {
     "name": "stderr",
     "output_type": "stream",
     "text": [
      "\u001b[1;31m2025-06-04 20:30:45.027282586 [E:onnxruntime:Default, provider_bridge_ort.cc:2195 TryGetProviderInfo_CUDA] /onnxruntime_src/onnxruntime/core/session/provider_bridge_ort.cc:1778 onnxruntime::Provider& onnxruntime::ProviderLibrary::Get() [ONNXRuntimeError] : 1 : FAIL : Failed to load library libonnxruntime_providers_cuda.so with error: libcudnn.so.9: cannot open shared object file: No such file or directory\n",
      "\u001b[m\n"
     ]
    },
    {
     "name": "stdout",
     "output_type": "stream",
     "text": [
      "Removing background from ../../huggingface/10classes/coffee/coffee5.png...\n"
     ]
    },
    {
     "name": "stderr",
     "output_type": "stream",
     "text": [
      "\u001b[1;31m2025-06-04 20:30:46.426415707 [E:onnxruntime:Default, provider_bridge_ort.cc:2195 TryGetProviderInfo_CUDA] /onnxruntime_src/onnxruntime/core/session/provider_bridge_ort.cc:1778 onnxruntime::Provider& onnxruntime::ProviderLibrary::Get() [ONNXRuntimeError] : 1 : FAIL : Failed to load library libonnxruntime_providers_cuda.so with error: libcudnn.so.9: cannot open shared object file: No such file or directory\n",
      "\u001b[m\n"
     ]
    },
    {
     "name": "stdout",
     "output_type": "stream",
     "text": [
      "Removing background from ../../huggingface/10classes/coffee/coffee6.png...\n"
     ]
    },
    {
     "name": "stderr",
     "output_type": "stream",
     "text": [
      "\u001b[1;31m2025-06-04 20:30:47.737011621 [E:onnxruntime:Default, provider_bridge_ort.cc:2195 TryGetProviderInfo_CUDA] /onnxruntime_src/onnxruntime/core/session/provider_bridge_ort.cc:1778 onnxruntime::Provider& onnxruntime::ProviderLibrary::Get() [ONNXRuntimeError] : 1 : FAIL : Failed to load library libonnxruntime_providers_cuda.so with error: libcudnn.so.9: cannot open shared object file: No such file or directory\n",
      "\u001b[m\n"
     ]
    },
    {
     "name": "stdout",
     "output_type": "stream",
     "text": [
      "Removing background from ../../huggingface/10classes/coffee/coffee7.png...\n"
     ]
    },
    {
     "name": "stderr",
     "output_type": "stream",
     "text": [
      "\u001b[1;31m2025-06-04 20:30:48.893964352 [E:onnxruntime:Default, provider_bridge_ort.cc:2195 TryGetProviderInfo_CUDA] /onnxruntime_src/onnxruntime/core/session/provider_bridge_ort.cc:1778 onnxruntime::Provider& onnxruntime::ProviderLibrary::Get() [ONNXRuntimeError] : 1 : FAIL : Failed to load library libonnxruntime_providers_cuda.so with error: libcudnn.so.9: cannot open shared object file: No such file or directory\n",
      "\u001b[m\n"
     ]
    },
    {
     "name": "stdout",
     "output_type": "stream",
     "text": [
      "Removing background from ../../huggingface/10classes/coffee/coffee8.png...\n"
     ]
    },
    {
     "name": "stderr",
     "output_type": "stream",
     "text": [
      "\u001b[1;31m2025-06-04 20:30:50.001431662 [E:onnxruntime:Default, provider_bridge_ort.cc:2195 TryGetProviderInfo_CUDA] /onnxruntime_src/onnxruntime/core/session/provider_bridge_ort.cc:1778 onnxruntime::Provider& onnxruntime::ProviderLibrary::Get() [ONNXRuntimeError] : 1 : FAIL : Failed to load library libonnxruntime_providers_cuda.so with error: libcudnn.so.9: cannot open shared object file: No such file or directory\n",
      "\u001b[m\n"
     ]
    },
    {
     "name": "stdout",
     "output_type": "stream",
     "text": [
      "Removing background from ../../huggingface/10classes/coffee/coffee9.png...\n"
     ]
    },
    {
     "name": "stderr",
     "output_type": "stream",
     "text": [
      "\u001b[1;31m2025-06-04 20:30:51.122265495 [E:onnxruntime:Default, provider_bridge_ort.cc:2195 TryGetProviderInfo_CUDA] /onnxruntime_src/onnxruntime/core/session/provider_bridge_ort.cc:1778 onnxruntime::Provider& onnxruntime::ProviderLibrary::Get() [ONNXRuntimeError] : 1 : FAIL : Failed to load library libonnxruntime_providers_cuda.so with error: libcudnn.so.9: cannot open shared object file: No such file or directory\n",
      "\u001b[m\n"
     ]
    },
    {
     "name": "stdout",
     "output_type": "stream",
     "text": [
      "Removing background from ../../huggingface/10classes/coffee/coffee10.png...\n"
     ]
    },
    {
     "name": "stderr",
     "output_type": "stream",
     "text": [
      "\u001b[1;31m2025-06-04 20:30:52.267857736 [E:onnxruntime:Default, provider_bridge_ort.cc:2195 TryGetProviderInfo_CUDA] /onnxruntime_src/onnxruntime/core/session/provider_bridge_ort.cc:1778 onnxruntime::Provider& onnxruntime::ProviderLibrary::Get() [ONNXRuntimeError] : 1 : FAIL : Failed to load library libonnxruntime_providers_cuda.so with error: libcudnn.so.9: cannot open shared object file: No such file or directory\n",
      "\u001b[m\n"
     ]
    },
    {
     "name": "stdout",
     "output_type": "stream",
     "text": [
      "Removing background from ../../huggingface/10classes/coffee/coffee11.png...\n"
     ]
    },
    {
     "name": "stderr",
     "output_type": "stream",
     "text": [
      "\u001b[1;31m2025-06-04 20:30:53.438119157 [E:onnxruntime:Default, provider_bridge_ort.cc:2195 TryGetProviderInfo_CUDA] /onnxruntime_src/onnxruntime/core/session/provider_bridge_ort.cc:1778 onnxruntime::Provider& onnxruntime::ProviderLibrary::Get() [ONNXRuntimeError] : 1 : FAIL : Failed to load library libonnxruntime_providers_cuda.so with error: libcudnn.so.9: cannot open shared object file: No such file or directory\n",
      "\u001b[m\n"
     ]
    },
    {
     "name": "stdout",
     "output_type": "stream",
     "text": [
      "Removing background from ../../huggingface/10classes/coffee/coffee12.png...\n"
     ]
    },
    {
     "name": "stderr",
     "output_type": "stream",
     "text": [
      "\u001b[1;31m2025-06-04 20:30:54.668250974 [E:onnxruntime:Default, provider_bridge_ort.cc:2195 TryGetProviderInfo_CUDA] /onnxruntime_src/onnxruntime/core/session/provider_bridge_ort.cc:1778 onnxruntime::Provider& onnxruntime::ProviderLibrary::Get() [ONNXRuntimeError] : 1 : FAIL : Failed to load library libonnxruntime_providers_cuda.so with error: libcudnn.so.9: cannot open shared object file: No such file or directory\n",
      "\u001b[m\n"
     ]
    },
    {
     "name": "stdout",
     "output_type": "stream",
     "text": [
      "Removing background from ../../huggingface/10classes/coffee/coffee13.png...\n"
     ]
    },
    {
     "name": "stderr",
     "output_type": "stream",
     "text": [
      "\u001b[1;31m2025-06-04 20:30:55.829167799 [E:onnxruntime:Default, provider_bridge_ort.cc:2195 TryGetProviderInfo_CUDA] /onnxruntime_src/onnxruntime/core/session/provider_bridge_ort.cc:1778 onnxruntime::Provider& onnxruntime::ProviderLibrary::Get() [ONNXRuntimeError] : 1 : FAIL : Failed to load library libonnxruntime_providers_cuda.so with error: libcudnn.so.9: cannot open shared object file: No such file or directory\n",
      "\u001b[m\n"
     ]
    },
    {
     "name": "stdout",
     "output_type": "stream",
     "text": [
      "Removing background from ../../huggingface/10classes/coffee/coffee15.png...\n"
     ]
    },
    {
     "name": "stderr",
     "output_type": "stream",
     "text": [
      "\u001b[1;31m2025-06-04 20:30:56.996491031 [E:onnxruntime:Default, provider_bridge_ort.cc:2195 TryGetProviderInfo_CUDA] /onnxruntime_src/onnxruntime/core/session/provider_bridge_ort.cc:1778 onnxruntime::Provider& onnxruntime::ProviderLibrary::Get() [ONNXRuntimeError] : 1 : FAIL : Failed to load library libonnxruntime_providers_cuda.so with error: libcudnn.so.9: cannot open shared object file: No such file or directory\n",
      "\u001b[m\n"
     ]
    },
    {
     "name": "stdout",
     "output_type": "stream",
     "text": [
      "Removing background from ../../huggingface/10classes/coffee/coffee14.png...\n"
     ]
    },
    {
     "name": "stderr",
     "output_type": "stream",
     "text": [
      "\u001b[1;31m2025-06-04 20:30:58.199821711 [E:onnxruntime:Default, provider_bridge_ort.cc:2195 TryGetProviderInfo_CUDA] /onnxruntime_src/onnxruntime/core/session/provider_bridge_ort.cc:1778 onnxruntime::Provider& onnxruntime::ProviderLibrary::Get() [ONNXRuntimeError] : 1 : FAIL : Failed to load library libonnxruntime_providers_cuda.so with error: libcudnn.so.9: cannot open shared object file: No such file or directory\n",
      "\u001b[m\n"
     ]
    },
    {
     "name": "stdout",
     "output_type": "stream",
     "text": [
      "Removing background from ../../huggingface/10classes/coffee/coffee16.png...\n"
     ]
    },
    {
     "name": "stderr",
     "output_type": "stream",
     "text": [
      "\u001b[1;31m2025-06-04 20:30:59.367185357 [E:onnxruntime:Default, provider_bridge_ort.cc:2195 TryGetProviderInfo_CUDA] /onnxruntime_src/onnxruntime/core/session/provider_bridge_ort.cc:1778 onnxruntime::Provider& onnxruntime::ProviderLibrary::Get() [ONNXRuntimeError] : 1 : FAIL : Failed to load library libonnxruntime_providers_cuda.so with error: libcudnn.so.9: cannot open shared object file: No such file or directory\n",
      "\u001b[m\n"
     ]
    },
    {
     "name": "stdout",
     "output_type": "stream",
     "text": [
      "Removing background from ../../huggingface/10classes/oatmeal/oatmeal1.png...\n"
     ]
    },
    {
     "name": "stderr",
     "output_type": "stream",
     "text": [
      "\u001b[1;31m2025-06-04 20:31:00.851762148 [E:onnxruntime:Default, provider_bridge_ort.cc:2195 TryGetProviderInfo_CUDA] /onnxruntime_src/onnxruntime/core/session/provider_bridge_ort.cc:1778 onnxruntime::Provider& onnxruntime::ProviderLibrary::Get() [ONNXRuntimeError] : 1 : FAIL : Failed to load library libonnxruntime_providers_cuda.so with error: libcudnn.so.9: cannot open shared object file: No such file or directory\n",
      "\u001b[m\n"
     ]
    },
    {
     "name": "stdout",
     "output_type": "stream",
     "text": [
      "Removing background from ../../huggingface/10classes/oatmeal/oatmeal3.png...\n"
     ]
    },
    {
     "name": "stderr",
     "output_type": "stream",
     "text": [
      "\u001b[1;31m2025-06-04 20:31:02.125352563 [E:onnxruntime:Default, provider_bridge_ort.cc:2195 TryGetProviderInfo_CUDA] /onnxruntime_src/onnxruntime/core/session/provider_bridge_ort.cc:1778 onnxruntime::Provider& onnxruntime::ProviderLibrary::Get() [ONNXRuntimeError] : 1 : FAIL : Failed to load library libonnxruntime_providers_cuda.so with error: libcudnn.so.9: cannot open shared object file: No such file or directory\n",
      "\u001b[m\n"
     ]
    },
    {
     "name": "stdout",
     "output_type": "stream",
     "text": [
      "Removing background from ../../huggingface/10classes/oatmeal/oatmeal4.png...\n"
     ]
    },
    {
     "name": "stderr",
     "output_type": "stream",
     "text": [
      "\u001b[1;31m2025-06-04 20:31:03.422904982 [E:onnxruntime:Default, provider_bridge_ort.cc:2195 TryGetProviderInfo_CUDA] /onnxruntime_src/onnxruntime/core/session/provider_bridge_ort.cc:1778 onnxruntime::Provider& onnxruntime::ProviderLibrary::Get() [ONNXRuntimeError] : 1 : FAIL : Failed to load library libonnxruntime_providers_cuda.so with error: libcudnn.so.9: cannot open shared object file: No such file or directory\n",
      "\u001b[m\n"
     ]
    },
    {
     "name": "stdout",
     "output_type": "stream",
     "text": [
      "Removing background from ../../huggingface/10classes/oatmeal/oatmeal5.png...\n"
     ]
    },
    {
     "name": "stderr",
     "output_type": "stream",
     "text": [
      "\u001b[1;31m2025-06-04 20:31:04.703189861 [E:onnxruntime:Default, provider_bridge_ort.cc:2195 TryGetProviderInfo_CUDA] /onnxruntime_src/onnxruntime/core/session/provider_bridge_ort.cc:1778 onnxruntime::Provider& onnxruntime::ProviderLibrary::Get() [ONNXRuntimeError] : 1 : FAIL : Failed to load library libonnxruntime_providers_cuda.so with error: libcudnn.so.9: cannot open shared object file: No such file or directory\n",
      "\u001b[m\n"
     ]
    },
    {
     "name": "stdout",
     "output_type": "stream",
     "text": [
      "Removing background from ../../huggingface/10classes/oatmeal/oatmeal6.png...\n"
     ]
    },
    {
     "name": "stderr",
     "output_type": "stream",
     "text": [
      "\u001b[1;31m2025-06-04 20:31:06.003443488 [E:onnxruntime:Default, provider_bridge_ort.cc:2195 TryGetProviderInfo_CUDA] /onnxruntime_src/onnxruntime/core/session/provider_bridge_ort.cc:1778 onnxruntime::Provider& onnxruntime::ProviderLibrary::Get() [ONNXRuntimeError] : 1 : FAIL : Failed to load library libonnxruntime_providers_cuda.so with error: libcudnn.so.9: cannot open shared object file: No such file or directory\n",
      "\u001b[m\n"
     ]
    },
    {
     "name": "stdout",
     "output_type": "stream",
     "text": [
      "Removing background from ../../huggingface/10classes/oatmeal/oatmeal7.png...\n"
     ]
    },
    {
     "name": "stderr",
     "output_type": "stream",
     "text": [
      "\u001b[1;31m2025-06-04 20:31:07.310594044 [E:onnxruntime:Default, provider_bridge_ort.cc:2195 TryGetProviderInfo_CUDA] /onnxruntime_src/onnxruntime/core/session/provider_bridge_ort.cc:1778 onnxruntime::Provider& onnxruntime::ProviderLibrary::Get() [ONNXRuntimeError] : 1 : FAIL : Failed to load library libonnxruntime_providers_cuda.so with error: libcudnn.so.9: cannot open shared object file: No such file or directory\n",
      "\u001b[m\n"
     ]
    },
    {
     "name": "stdout",
     "output_type": "stream",
     "text": [
      "Removing background from ../../huggingface/10classes/oatmeal/oatmeal9.png...\n"
     ]
    },
    {
     "name": "stderr",
     "output_type": "stream",
     "text": [
      "\u001b[1;31m2025-06-04 20:31:08.553585726 [E:onnxruntime:Default, provider_bridge_ort.cc:2195 TryGetProviderInfo_CUDA] /onnxruntime_src/onnxruntime/core/session/provider_bridge_ort.cc:1778 onnxruntime::Provider& onnxruntime::ProviderLibrary::Get() [ONNXRuntimeError] : 1 : FAIL : Failed to load library libonnxruntime_providers_cuda.so with error: libcudnn.so.9: cannot open shared object file: No such file or directory\n",
      "\u001b[m\n"
     ]
    },
    {
     "name": "stdout",
     "output_type": "stream",
     "text": [
      "Removing background from ../../huggingface/10classes/oatmeal/oatmeal10.png...\n"
     ]
    },
    {
     "name": "stderr",
     "output_type": "stream",
     "text": [
      "\u001b[1;31m2025-06-04 20:31:09.646044187 [E:onnxruntime:Default, provider_bridge_ort.cc:2195 TryGetProviderInfo_CUDA] /onnxruntime_src/onnxruntime/core/session/provider_bridge_ort.cc:1778 onnxruntime::Provider& onnxruntime::ProviderLibrary::Get() [ONNXRuntimeError] : 1 : FAIL : Failed to load library libonnxruntime_providers_cuda.so with error: libcudnn.so.9: cannot open shared object file: No such file or directory\n",
      "\u001b[m\n"
     ]
    },
    {
     "name": "stdout",
     "output_type": "stream",
     "text": [
      "Removing background from ../../huggingface/10classes/oatmeal/oatmeal12.png...\n"
     ]
    },
    {
     "name": "stderr",
     "output_type": "stream",
     "text": [
      "\u001b[1;31m2025-06-04 20:31:10.737786734 [E:onnxruntime:Default, provider_bridge_ort.cc:2195 TryGetProviderInfo_CUDA] /onnxruntime_src/onnxruntime/core/session/provider_bridge_ort.cc:1778 onnxruntime::Provider& onnxruntime::ProviderLibrary::Get() [ONNXRuntimeError] : 1 : FAIL : Failed to load library libonnxruntime_providers_cuda.so with error: libcudnn.so.9: cannot open shared object file: No such file or directory\n",
      "\u001b[m\n"
     ]
    },
    {
     "name": "stdout",
     "output_type": "stream",
     "text": [
      "Removing background from ../../huggingface/10classes/oatmeal/oatmeal13.png...\n"
     ]
    },
    {
     "name": "stderr",
     "output_type": "stream",
     "text": [
      "\u001b[1;31m2025-06-04 20:31:11.890741544 [E:onnxruntime:Default, provider_bridge_ort.cc:2195 TryGetProviderInfo_CUDA] /onnxruntime_src/onnxruntime/core/session/provider_bridge_ort.cc:1778 onnxruntime::Provider& onnxruntime::ProviderLibrary::Get() [ONNXRuntimeError] : 1 : FAIL : Failed to load library libonnxruntime_providers_cuda.so with error: libcudnn.so.9: cannot open shared object file: No such file or directory\n",
      "\u001b[m\n"
     ]
    },
    {
     "name": "stdout",
     "output_type": "stream",
     "text": [
      "Removing background from ../../huggingface/10classes/oatmeal/oatmeal15.png...\n"
     ]
    },
    {
     "name": "stderr",
     "output_type": "stream",
     "text": [
      "\u001b[1;31m2025-06-04 20:31:12.996850031 [E:onnxruntime:Default, provider_bridge_ort.cc:2195 TryGetProviderInfo_CUDA] /onnxruntime_src/onnxruntime/core/session/provider_bridge_ort.cc:1778 onnxruntime::Provider& onnxruntime::ProviderLibrary::Get() [ONNXRuntimeError] : 1 : FAIL : Failed to load library libonnxruntime_providers_cuda.so with error: libcudnn.so.9: cannot open shared object file: No such file or directory\n",
      "\u001b[m\n"
     ]
    },
    {
     "name": "stdout",
     "output_type": "stream",
     "text": [
      "Removing background from ../../huggingface/10classes/oatmeal/oatmeal2.png...\n"
     ]
    },
    {
     "name": "stderr",
     "output_type": "stream",
     "text": [
      "\u001b[1;31m2025-06-04 20:31:14.149730591 [E:onnxruntime:Default, provider_bridge_ort.cc:2195 TryGetProviderInfo_CUDA] /onnxruntime_src/onnxruntime/core/session/provider_bridge_ort.cc:1778 onnxruntime::Provider& onnxruntime::ProviderLibrary::Get() [ONNXRuntimeError] : 1 : FAIL : Failed to load library libonnxruntime_providers_cuda.so with error: libcudnn.so.9: cannot open shared object file: No such file or directory\n",
      "\u001b[m\n"
     ]
    },
    {
     "name": "stdout",
     "output_type": "stream",
     "text": [
      "Removing background from ../../huggingface/10classes/oatmeal/oatmeal8.png...\n"
     ]
    },
    {
     "name": "stderr",
     "output_type": "stream",
     "text": [
      "\u001b[1;31m2025-06-04 20:31:15.240733947 [E:onnxruntime:Default, provider_bridge_ort.cc:2195 TryGetProviderInfo_CUDA] /onnxruntime_src/onnxruntime/core/session/provider_bridge_ort.cc:1778 onnxruntime::Provider& onnxruntime::ProviderLibrary::Get() [ONNXRuntimeError] : 1 : FAIL : Failed to load library libonnxruntime_providers_cuda.so with error: libcudnn.so.9: cannot open shared object file: No such file or directory\n",
      "\u001b[m\n"
     ]
    },
    {
     "name": "stdout",
     "output_type": "stream",
     "text": [
      "Removing background from ../../huggingface/10classes/oatmeal/oatmeal11.png...\n"
     ]
    },
    {
     "name": "stderr",
     "output_type": "stream",
     "text": [
      "\u001b[1;31m2025-06-04 20:31:16.355157189 [E:onnxruntime:Default, provider_bridge_ort.cc:2195 TryGetProviderInfo_CUDA] /onnxruntime_src/onnxruntime/core/session/provider_bridge_ort.cc:1778 onnxruntime::Provider& onnxruntime::ProviderLibrary::Get() [ONNXRuntimeError] : 1 : FAIL : Failed to load library libonnxruntime_providers_cuda.so with error: libcudnn.so.9: cannot open shared object file: No such file or directory\n",
      "\u001b[m\n"
     ]
    },
    {
     "name": "stdout",
     "output_type": "stream",
     "text": [
      "Removing background from ../../huggingface/10classes/oatmeal/oatmeal14.png...\n"
     ]
    },
    {
     "name": "stderr",
     "output_type": "stream",
     "text": [
      "\u001b[1;31m2025-06-04 20:31:17.481929178 [E:onnxruntime:Default, provider_bridge_ort.cc:2195 TryGetProviderInfo_CUDA] /onnxruntime_src/onnxruntime/core/session/provider_bridge_ort.cc:1778 onnxruntime::Provider& onnxruntime::ProviderLibrary::Get() [ONNXRuntimeError] : 1 : FAIL : Failed to load library libonnxruntime_providers_cuda.so with error: libcudnn.so.9: cannot open shared object file: No such file or directory\n",
      "\u001b[m\n"
     ]
    },
    {
     "name": "stdout",
     "output_type": "stream",
     "text": [
      "Removing background from ../../huggingface/10classes/oatmeal/oatmeal16.png...\n"
     ]
    },
    {
     "name": "stderr",
     "output_type": "stream",
     "text": [
      "\u001b[1;31m2025-06-04 20:31:18.687534424 [E:onnxruntime:Default, provider_bridge_ort.cc:2195 TryGetProviderInfo_CUDA] /onnxruntime_src/onnxruntime/core/session/provider_bridge_ort.cc:1778 onnxruntime::Provider& onnxruntime::ProviderLibrary::Get() [ONNXRuntimeError] : 1 : FAIL : Failed to load library libonnxruntime_providers_cuda.so with error: libcudnn.so.9: cannot open shared object file: No such file or directory\n",
      "\u001b[m\n"
     ]
    }
   ],
   "source": [
    "from rembg import remove\n",
    "from PIL import Image\n",
    "\n",
    "def is_whiteish(pixel, threshold=220):\n",
    "    return all(channel >= threshold for channel in pixel[:3])\n",
    "\n",
    "for root, dirs, files in os.walk(FOLDER_PATH):\n",
    "    images = [f for f in files if f.lower().endswith(('.png', '.jpg', '.jpeg'))]\n",
    "    for img_name in images:\n",
    "        img_path = os.path.join(root, img_name)\n",
    "        with Image.open(img_path) as img:\n",
    "            img = img.convert(\"RGB\")\n",
    "            w, h = img.size\n",
    "            corners = [img.getpixel((0,0)), img.getpixel((w-1,0)), img.getpixel((0,h-1)), img.getpixel((w-1,h-1))]\n",
    "            if all(is_whiteish(px) for px in corners):\n",
    "                print(f\"Removing background from {img_path}...\")\n",
    "                output = remove(img)\n",
    "                output.save(img_path)\n"
   ]
  },
  {
   "cell_type": "markdown",
   "id": "d0b0548a",
   "metadata": {},
   "source": [
    "### Make image squared"
   ]
  },
  {
   "cell_type": "code",
   "execution_count": 10,
   "id": "3095e61a",
   "metadata": {},
   "outputs": [
    {
     "name": "stdout",
     "output_type": "stream",
     "text": [
      "Padding ../../huggingface/10classes/tomato sauce/tomato sauce_00002__no_background.png to square...\n",
      "Padding ../../huggingface/10classes/tomato sauce/tomato sauce_00003__no_background.png to square...\n",
      "Padding ../../huggingface/10classes/tomato sauce/tomato sauce_00004__no_background.png to square...\n",
      "Padding ../../huggingface/10classes/tomato sauce/tomato sauce_00005__no_background.png to square...\n",
      "Padding ../../huggingface/10classes/tomato sauce/tomato sauce_00006__no_background.png to square...\n",
      "Padding ../../huggingface/10classes/tomato sauce/tomato sauce_00007__no_background.png to square...\n",
      "Padding ../../huggingface/10classes/tomato sauce/tomato sauce_00008__no_background.png to square...\n",
      "Padding ../../huggingface/10classes/tomato sauce/tomato sauce_00009__no_background.png to square...\n",
      "Padding ../../huggingface/10classes/tomato sauce/tomato sauce_00010__no_background.png to square...\n",
      "Padding ../../huggingface/10classes/tomato sauce/tomato sauce_00011__no_background.png to square...\n",
      "Padding ../../huggingface/10classes/tomato sauce/tomato sauce_00012__no_background.png to square...\n",
      "Padding ../../huggingface/10classes/tomato sauce/tomato sauce_00013__no_background.png to square...\n",
      "Padding ../../huggingface/10classes/tomato sauce/tomato sauce_00014__no_background.png to square...\n",
      "Padding ../../huggingface/10classes/tomato sauce/tomato sauce_00015__no_background.png to square...\n",
      "Padding ../../huggingface/10classes/tomato sauce/tomato sauce_00016__no_background.png to square...\n",
      "Padding ../../huggingface/10classes/tomato sauce/tomato sauce_00017__no_background.png to square...\n",
      "Padding ../../huggingface/10classes/tomato sauce/tomato sauce_00018__no_background.png to square...\n",
      "Padding ../../huggingface/10classes/tomato sauce/tomato sauce_00019__no_background.png to square...\n",
      "Padding ../../huggingface/10classes/tomato sauce/tomato sauce_00020__no_background.png to square...\n"
     ]
    }
   ],
   "source": [
    "from PIL import Image\n",
    "\n",
    "for root, dirs, files in os.walk(FOLDER_PATH):\n",
    "    images = [f for f in files if f.lower().endswith(('.png', '.jpg', '.jpeg'))]\n",
    "    for img_name in images:\n",
    "        img_path = os.path.join(root, img_name)\n",
    "        with Image.open(img_path) as img:\n",
    "            img = img.convert(\"RGBA\")\n",
    "            w, h = img.size\n",
    "            if w != h:\n",
    "                print(f\"Padding {img_path} to square...\")\n",
    "                max_side = max(w, h)\n",
    "                new_img = Image.new(\"RGBA\", (max_side, max_side), (0, 0, 0, 0))\n",
    "                offset = ((max_side - w) // 2, (max_side - h) // 2)\n",
    "                new_img.paste(img, offset)\n",
    "                new_img.save(img_path)"
   ]
  },
  {
   "cell_type": "markdown",
   "id": "f919e4d7",
   "metadata": {},
   "source": [
    "### Filter outputs"
   ]
  },
  {
   "cell_type": "code",
   "execution_count": 9,
   "id": "c809d046",
   "metadata": {},
   "outputs": [
    {
     "data": {
      "application/vnd.jupyter.widget-view+json": {
       "model_id": "e683909f6e6d4d858ea5ff3043674350",
       "version_major": 2,
       "version_minor": 0
      },
      "text/plain": [
       "VBox(children=(Output(), HBox(children=(Button(description='✅ Keep Selected', style=ButtonStyle()), Button(des…"
      ]
     },
     "metadata": {},
     "output_type": "display_data"
    },
    {
     "data": {
      "text/plain": [
       "<__main__.BatchImageFilter at 0x7f63303a2ad0>"
      ]
     },
     "execution_count": 9,
     "metadata": {},
     "output_type": "execute_result"
    }
   ],
   "source": [
    "import os\n",
    "from PIL import Image\n",
    "import matplotlib.pyplot as plt\n",
    "import ipywidgets as widgets\n",
    "from IPython.display import display, clear_output\n",
    "\n",
    "class BatchImageFilter:\n",
    "    def __init__(self, image_paths, batch_size=9, grid_cols=3):\n",
    "        self.image_paths = image_paths\n",
    "        self.batch_size = batch_size\n",
    "        self.grid_cols = grid_cols\n",
    "        self.index = 0\n",
    "        self.selected = set()\n",
    "        self.out = widgets.Output()\n",
    "        \n",
    "        # Control buttons\n",
    "        self.keep_btn = widgets.Button(description=\"✅ Keep Selected\")\n",
    "        self.remove_btn = widgets.Button(description=\"🗑️ Delete Unselected\")\n",
    "        self.next_btn = widgets.Button(description=\"➡️ Next Batch\")\n",
    "        self.keep_btn.on_click(self.keep_selected)\n",
    "        self.remove_btn.on_click(self.delete_unselected)\n",
    "        self.next_btn.on_click(self.load_next_batch)\n",
    "\n",
    "        self.ui = widgets.VBox([\n",
    "            self.out,\n",
    "            widgets.HBox([self.keep_btn, self.remove_btn, self.next_btn])\n",
    "        ])\n",
    "        display(self.ui)\n",
    "        self.load_next_batch()\n",
    "\n",
    "    def load_next_batch(self, b=None):\n",
    "        self.selected.clear()\n",
    "        self.out.clear_output(wait=True)\n",
    "        self.current_batch = self.image_paths[self.index:self.index + self.batch_size]\n",
    "        self.index += self.batch_size\n",
    "\n",
    "        with self.out:\n",
    "            fig, axes = plt.subplots(\n",
    "                nrows=(len(self.current_batch) + self.grid_cols - 1) // self.grid_cols,\n",
    "                ncols=self.grid_cols,\n",
    "                figsize=(12, 8)\n",
    "            )\n",
    "            axes = axes.flatten()\n",
    "\n",
    "            for ax in axes[len(self.current_batch):]:\n",
    "                ax.axis(\"off\")\n",
    "\n",
    "            for i, path in enumerate(self.current_batch):\n",
    "                img = Image.open(path)\n",
    "                ax = axes[i]\n",
    "                ax.imshow(img)\n",
    "                ax.set_title(os.path.basename(path), fontsize=8)\n",
    "                ax.axis(\"off\")\n",
    "                # Attach a clickable event\n",
    "                def onclick(event, i=i):\n",
    "                    if i in self.selected:\n",
    "                        self.selected.remove(i)\n",
    "                    else:\n",
    "                        self.selected.add(i)\n",
    "                    # Highlight selected\n",
    "                    ax.set_edgecolor(\"red\" if i in self.selected else \"black\")\n",
    "                    fig.canvas.draw_idle()\n",
    "\n",
    "                fig.canvas.mpl_connect(\"button_press_event\", lambda event, i=i: onclick(event, i))\n",
    "            plt.tight_layout()\n",
    "            plt.show()\n",
    "\n",
    "    def keep_selected(self, b=None):\n",
    "        print(\"Keeping selected images.\")\n",
    "        self.image_paths = [\n",
    "            path for i, path in enumerate(self.current_batch) if i in self.selected\n",
    "        ] + self.image_paths[self.index:]\n",
    "        self.index = 0\n",
    "        self.load_next_batch()\n",
    "\n",
    "    def delete_unselected(self, b=None):\n",
    "        to_delete = [\n",
    "            path for i, path in enumerate(self.current_batch) if i not in self.selected\n",
    "        ]\n",
    "        for path in to_delete:\n",
    "            try:\n",
    "                #os.remove(path)\n",
    "                print(f\"Deleted: {path}\")\n",
    "            except Exception as e:\n",
    "                print(f\"Error deleting {path}: {e}\")\n",
    "        self.image_paths = [\n",
    "            path for i, path in enumerate(self.current_batch) if i in self.selected\n",
    "        ] + self.image_paths[self.index:]\n",
    "        self.index = 0\n",
    "        self.load_next_batch()\n",
    "\n",
    "def collect_images(folder):\n",
    "    image_extensions = {'.png', '.jpg', '.jpeg', '.bmp', '.gif'}\n",
    "    paths = []\n",
    "    for root, _, files in os.walk(folder):\n",
    "        for file in files:\n",
    "            if any(file.lower().endswith(ext) for ext in image_extensions):\n",
    "                paths.append(os.path.join(root, file))\n",
    "    return sorted(paths)\n",
    "\n",
    "# Usage\n",
    "image_folder = FOLDER_PATH\n",
    "image_paths = collect_images(image_folder)\n",
    "BatchImageFilter(image_paths, batch_size=9, grid_cols=3)"
   ]
  }
 ],
 "metadata": {
  "kernelspec": {
   "display_name": "basket",
   "language": "python",
   "name": "python3"
  },
  "language_info": {
   "codemirror_mode": {
    "name": "ipython",
    "version": 3
   },
   "file_extension": ".py",
   "mimetype": "text/x-python",
   "name": "python",
   "nbconvert_exporter": "python",
   "pygments_lexer": "ipython3",
   "version": "3.10.12"
  }
 },
 "nbformat": 4,
 "nbformat_minor": 5
}
