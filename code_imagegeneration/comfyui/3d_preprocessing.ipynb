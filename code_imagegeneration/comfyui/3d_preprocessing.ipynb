{
 "cells": [
  {
   "cell_type": "markdown",
   "id": "0cd9173c",
   "metadata": {},
   "source": [
    "# Preprocess Data Folders\n",
    "In this notebook we preprocess data folders (Renaming, removing background if needed, ...)"
   ]
  },
  {
   "cell_type": "code",
   "execution_count": 6,
   "id": "d2dc0b03",
   "metadata": {},
   "outputs": [],
   "source": [
    "import os"
   ]
  },
  {
   "cell_type": "code",
   "execution_count": 7,
   "id": "799a7632",
   "metadata": {},
   "outputs": [
    {
     "name": "stdout",
     "output_type": "stream",
     "text": [
      "env: CUDA_VISIBLE_DEVICES=2\n",
      "../../.cache\n",
      "Maats\n",
      "\u001b[1morgs: \u001b[0m DBD-research-group,Basket-AEye\n"
     ]
    }
   ],
   "source": [
    "# HF Cache\n",
    "%env CUDA_VISIBLE_DEVICES=2\n",
    "os.environ[\"HF_HOME\"] = \"../../.cache\"\n",
    "!echo $HF_HOME\n",
    "!huggingface-cli whoami"
   ]
  },
  {
   "cell_type": "markdown",
   "id": "7cef7078",
   "metadata": {},
   "source": [
    "## Settings"
   ]
  },
  {
   "cell_type": "code",
   "execution_count": 8,
   "id": "9fdf6f17",
   "metadata": {},
   "outputs": [],
   "source": [
    "FOLDER_PATH = \"../../huggingface/\" + \"10classes/pasta\""
   ]
  },
  {
   "cell_type": "markdown",
   "id": "e1b727ba",
   "metadata": {},
   "source": [
    "### Rename"
   ]
  },
  {
   "cell_type": "code",
   "execution_count": 17,
   "id": "a208edb3",
   "metadata": {},
   "outputs": [],
   "source": [
    "for root, dirs, files in os.walk(FOLDER_PATH):\n",
    "    folder_name = os.path.basename(root)\n",
    "    images = [f for f in files if f.lower().endswith(('.png', '.jpg', '.jpeg'))]\n",
    "    temp_names = []\n",
    "    # First pass: rename to temp names to avoid conflicts\n",
    "    for idx, img in enumerate(sorted(images), 1):\n",
    "        ext = os.path.splitext(img)[1]\n",
    "        temp_name = f\"__temp__{idx}{ext}\"\n",
    "        old_path = os.path.join(root, img)\n",
    "        temp_path = os.path.join(root, temp_name)\n",
    "        os.rename(old_path, temp_path)\n",
    "        temp_names.append((temp_path, f\"{folder_name}{idx}{ext}\"))\n",
    "    # Second pass: rename temp names to final names\n",
    "    for temp_path, final_name in temp_names:\n",
    "        final_path = os.path.join(root, final_name)\n",
    "        os.rename(temp_path, final_path)"
   ]
  },
  {
   "cell_type": "markdown",
   "id": "e714995a",
   "metadata": {},
   "source": [
    "### Remove background"
   ]
  },
  {
   "cell_type": "code",
   "execution_count": null,
   "id": "9b21a35e",
   "metadata": {},
   "outputs": [
    {
     "name": "stderr",
     "output_type": "stream",
     "text": [
      "Downloading data from 'https://github.com/danielgatis/rembg/releases/download/v0.0.0/isnet-general-use.onnx' to file '/home/stu235269/.u2net/isnet-general-use.onnx'.\n",
      "100%|████████████████████████████████████████| 179M/179M [00:00<00:00, 127GB/s]\n",
      "\u001b[1;31m2025-06-11 15:22:48.621897055 [E:onnxruntime:Default, provider_bridge_ort.cc:2195 TryGetProviderInfo_CUDA] /onnxruntime_src/onnxruntime/core/session/provider_bridge_ort.cc:1778 onnxruntime::Provider& onnxruntime::ProviderLibrary::Get() [ONNXRuntimeError] : 1 : FAIL : Failed to load library libonnxruntime_providers_cuda.so with error: libcudnn.so.9: cannot open shared object file: No such file or directory\n",
      "\u001b[m\n"
     ]
    },
    {
     "name": "stdout",
     "output_type": "stream",
     "text": [
      "✅ Saved: ../../huggingface/10classes/pasta/pasta4.png\n",
      "✅ Saved: ../../huggingface/10classes/pasta/pasta5.png\n",
      "✅ Saved: ../../huggingface/10classes/pasta/pasta6.png\n",
      "✅ Saved: ../../huggingface/10classes/pasta/pasta7.png\n",
      "✅ Saved: ../../huggingface/10classes/pasta/pasta8.png\n",
      "✅ Saved: ../../huggingface/10classes/pasta/pasta9.png\n",
      "✅ Saved: ../../huggingface/10classes/pasta/pasta10.png\n",
      "✅ Saved: ../../huggingface/10classes/pasta/pasta11.png\n",
      "✅ Saved: ../../huggingface/10classes/pasta/pasta12.png\n",
      "✅ Saved: ../../huggingface/10classes/pasta/pasta13.png\n",
      "✅ Saved: ../../huggingface/10classes/pasta/pasta14.png\n",
      "✅ Saved: ../../huggingface/10classes/pasta/pasta15.png\n",
      "✅ Saved: ../../huggingface/10classes/pasta/pasta16.png\n",
      "✅ Saved: ../../huggingface/10classes/pasta/pasta17.png\n",
      "✅ Saved: ../../huggingface/10classes/pasta/pasta18.png\n",
      "✅ Saved: ../../huggingface/10classes/pasta/pasta19.png\n",
      "✅ Saved: ../../huggingface/10classes/pasta/pasta20.png\n",
      "✅ Saved: ../../huggingface/10classes/pasta/pasta21.png\n",
      "✅ Saved: ../../huggingface/10classes/pasta/pasta22.png\n",
      "✅ Saved: ../../huggingface/10classes/pasta/pasta23.png\n",
      "✅ Saved: ../../huggingface/10classes/pasta/pasta24.png\n",
      "✅ Saved: ../../huggingface/10classes/pasta/pasta25.png\n",
      "✅ Saved: ../../huggingface/10classes/pasta/pasta26.png\n",
      "✅ Saved: ../../huggingface/10classes/pasta/pasta27.png\n",
      "PERFORMANCE WARNING:\n",
      "Thresholded incomplete Cholesky decomposition failed due to insufficient positive-definiteness of matrix A with parameters:\n",
      "    discard_threshold = 1.000000e-04\n",
      "    shift = 0.000000e+00\n",
      "Try decreasing discard_threshold or start with a larger shift\n",
      "\n",
      "✅ Saved: ../../huggingface/10classes/pasta/pasta28.png\n",
      "✅ Saved: ../../huggingface/10classes/pasta/pasta29.png\n",
      "✅ Saved: ../../huggingface/10classes/pasta/pasta30.png\n",
      "✅ Saved: ../../huggingface/10classes/pasta/pasta31.png\n",
      "✅ Saved: ../../huggingface/10classes/pasta/pasta32.png\n",
      "✅ Saved: ../../huggingface/10classes/pasta/pasta33.png\n",
      "✅ Saved: ../../huggingface/10classes/pasta/pasta34.png\n",
      "✅ Saved: ../../huggingface/10classes/pasta/pasta35.png\n",
      "✅ Saved: ../../huggingface/10classes/pasta/pasta36.png\n",
      "✅ Saved: ../../huggingface/10classes/pasta/pasta1.png\n",
      "✅ Saved: ../../huggingface/10classes/pasta/pasta2.png\n",
      "✅ Saved: ../../huggingface/10classes/pasta/pasta3.png\n"
     ]
    }
   ],
   "source": [
    "import os\n",
    "from rembg import new_session, remove\n",
    "from PIL import Image, ImageEnhance\n",
    "import io\n",
    "\n",
    "# Use the most accurate model\n",
    "session = new_session(\"isnet-general-use\")\n",
    "\n",
    "for root, dirs, files in os.walk(FOLDER_PATH):\n",
    "    images = [f for f in files if f.lower().endswith(('.png', '.jpg', '.jpeg'))]\n",
    "    for img_name in images:\n",
    "        img_path = os.path.join(root, img_name)\n",
    "\n",
    "\n",
    "        # Remove background\n",
    "        output_bytes = remove(\n",
    "            input_bytes,\n",
    "            session=session,\n",
    "            alpha_matting=True,\n",
    "            alpha_matting_foreground_threshold=240,\n",
    "            alpha_matting_background_threshold=10,\n",
    "            alpha_matting_erode_size=1,\n",
    "        )\n",
    "\n",
    "        # Save result\n",
    "        with open(img_path, \"wb\") as f:\n",
    "            f.write(output_bytes)\n",
    "\n",
    "        print(f\"✅ Saved: {img_path}\")"
   ]
  },
  {
   "cell_type": "markdown",
   "id": "d0b0548a",
   "metadata": {},
   "source": [
    "### Make image squared"
   ]
  },
  {
   "cell_type": "code",
   "execution_count": 11,
   "id": "3095e61a",
   "metadata": {},
   "outputs": [],
   "source": [
    "from PIL import Image\n",
    "\n",
    "for root, dirs, files in os.walk(FOLDER_PATH):\n",
    "    images = [f for f in files if f.lower().endswith(('.png', '.jpg', '.jpeg'))]\n",
    "    for img_name in images:\n",
    "        img_path = os.path.join(root, img_name)\n",
    "        with Image.open(img_path) as img:\n",
    "            img = img.convert(\"RGBA\")\n",
    "            w, h = img.size\n",
    "            if w != h:\n",
    "                print(f\"Padding {img_path} to square...\")\n",
    "                max_side = max(w, h)\n",
    "                new_img = Image.new(\"RGBA\", (max_side, max_side), (0, 0, 0, 0))\n",
    "                offset = ((max_side - w) // 2, (max_side - h) // 2)\n",
    "                new_img.paste(img, offset)\n",
    "                new_img.save(img_path)"
   ]
  },
  {
   "cell_type": "markdown",
   "id": "f919e4d7",
   "metadata": {},
   "source": [
    "### Filter outputs"
   ]
  },
  {
   "cell_type": "code",
   "execution_count": 8,
   "id": "c809d046",
   "metadata": {},
   "outputs": [
    {
     "data": {
      "application/vnd.jupyter.widget-view+json": {
       "model_id": "9fd9c59b148d41baa1e12ac8fb1c0a08",
       "version_major": 2,
       "version_minor": 0
      },
      "text/plain": [
       "VBox(children=(Output(), HBox(children=(Button(description='✅ Keep Selected', style=ButtonStyle()), Button(des…"
      ]
     },
     "metadata": {},
     "output_type": "display_data"
    },
    {
     "data": {
      "text/plain": [
       "<__main__.BatchImageFilter at 0x7efd9152dfc0>"
      ]
     },
     "execution_count": 8,
     "metadata": {},
     "output_type": "execute_result"
    }
   ],
   "source": [
    "import os\n",
    "from PIL import Image\n",
    "import matplotlib.pyplot as plt\n",
    "import ipywidgets as widgets\n",
    "from IPython.display import display, clear_output\n",
    "\n",
    "class BatchImageFilter:\n",
    "    def __init__(self, image_paths, batch_size=9, grid_cols=3):\n",
    "        self.image_paths = image_paths\n",
    "        self.batch_size = batch_size\n",
    "        self.grid_cols = grid_cols\n",
    "        self.index = 0\n",
    "        self.selected = set()\n",
    "        self.out = widgets.Output()\n",
    "        \n",
    "        # Control buttons\n",
    "        self.keep_btn = widgets.Button(description=\"✅ Keep Selected\")\n",
    "        self.remove_btn = widgets.Button(description=\"🗑️ Delete Unselected\")\n",
    "        self.next_btn = widgets.Button(description=\"➡️ Next Batch\")\n",
    "        self.keep_btn.on_click(self.keep_selected)\n",
    "        self.remove_btn.on_click(self.delete_unselected)\n",
    "        self.next_btn.on_click(self.load_next_batch)\n",
    "\n",
    "        self.ui = widgets.VBox([\n",
    "            self.out,\n",
    "            widgets.HBox([self.keep_btn, self.remove_btn, self.next_btn])\n",
    "        ])\n",
    "        display(self.ui)\n",
    "        self.load_next_batch()\n",
    "\n",
    "    def load_next_batch(self, b=None):\n",
    "        self.selected.clear()\n",
    "        self.out.clear_output(wait=True)\n",
    "        self.current_batch = self.image_paths[self.index:self.index + self.batch_size]\n",
    "        self.index += self.batch_size\n",
    "\n",
    "        with self.out:\n",
    "            fig, axes = plt.subplots(\n",
    "                nrows=(len(self.current_batch) + self.grid_cols - 1) // self.grid_cols,\n",
    "                ncols=self.grid_cols,\n",
    "                figsize=(12, 8)\n",
    "            )\n",
    "            axes = axes.flatten()\n",
    "\n",
    "            for ax in axes[len(self.current_batch):]:\n",
    "                ax.axis(\"off\")\n",
    "\n",
    "            for i, path in enumerate(self.current_batch):\n",
    "                img = Image.open(path)\n",
    "                ax = axes[i]\n",
    "                ax.imshow(img)\n",
    "                ax.set_title(os.path.basename(path), fontsize=8)\n",
    "                ax.axis(\"off\")\n",
    "                # Attach a clickable event\n",
    "                def onclick(event, i=i):\n",
    "                    if i in self.selected:\n",
    "                        self.selected.remove(i)\n",
    "                    else:\n",
    "                        self.selected.add(i)\n",
    "                    # Highlight selected\n",
    "                    ax.set_edgecolor(\"red\" if i in self.selected else \"black\")\n",
    "                    fig.canvas.draw_idle()\n",
    "\n",
    "                fig.canvas.mpl_connect(\"button_press_event\", lambda event, i=i: onclick(event, i))\n",
    "            plt.tight_layout()\n",
    "            plt.show()\n",
    "\n",
    "    def keep_selected(self, b=None):\n",
    "        print(\"Keeping selected images.\")\n",
    "        self.image_paths = [\n",
    "            path for i, path in enumerate(self.current_batch) if i in self.selected\n",
    "        ] + self.image_paths[self.index:]\n",
    "        self.index = 0\n",
    "        self.load_next_batch()\n",
    "\n",
    "    def delete_unselected(self, b=None):\n",
    "        to_delete = [\n",
    "            path for i, path in enumerate(self.current_batch) if i not in self.selected\n",
    "        ]\n",
    "        for path in to_delete:\n",
    "            try:\n",
    "                #os.remove(path)\n",
    "                print(f\"Deleted: {path}\")\n",
    "            except Exception as e:\n",
    "                print(f\"Error deleting {path}: {e}\")\n",
    "        self.image_paths = [\n",
    "            path for i, path in enumerate(self.current_batch) if i in self.selected\n",
    "        ] + self.image_paths[self.index:]\n",
    "        self.index = 0\n",
    "        self.load_next_batch()\n",
    "\n",
    "def collect_images(folder):\n",
    "    image_extensions = {'.png', '.jpg', '.jpeg', '.bmp', '.gif'}\n",
    "    paths = []\n",
    "    for root, _, files in os.walk(folder):\n",
    "        for file in files:\n",
    "            if any(file.lower().endswith(ext) for ext in image_extensions):\n",
    "                paths.append(os.path.join(root, file))\n",
    "    return sorted(paths)\n",
    "\n",
    "# Usage\n",
    "image_folder = FOLDER_PATH\n",
    "image_paths = collect_images(image_folder)\n",
    "BatchImageFilter(image_paths, batch_size=9, grid_cols=3)"
   ]
  }
 ],
 "metadata": {
  "kernelspec": {
   "display_name": "basket",
   "language": "python",
   "name": "python3"
  },
  "language_info": {
   "codemirror_mode": {
    "name": "ipython",
    "version": 3
   },
   "file_extension": ".py",
   "mimetype": "text/x-python",
   "name": "python",
   "nbconvert_exporter": "python",
   "pygments_lexer": "ipython3",
   "version": "3.10.12"
  }
 },
 "nbformat": 4,
 "nbformat_minor": 5
}
